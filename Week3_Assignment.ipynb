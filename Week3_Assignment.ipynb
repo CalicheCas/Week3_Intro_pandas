{
 "cells": [
  {
   "cell_type": "code",
   "execution_count": 1,
   "metadata": {},
   "outputs": [],
   "source": [
    "import pandas as pd\n",
    "import matplotlib.pyplot as plt\n",
    "import csv"
   ]
  },
  {
   "cell_type": "code",
   "execution_count": 2,
   "metadata": {},
   "outputs": [],
   "source": [
    "def set_logger():\n",
    "\n",
    "    # create new csv file\n",
    "    fn = ['Day', 'Miles']\n",
    "    with open('trip.csv', mode='w', newline='') as file:\n",
    "        f_writer = csv.DictWriter(file, fieldnames=fn)\n",
    "        \n",
    "        f_writer.writeheader()\n",
    "        \n",
    "        file.close()"
   ]
  },
  {
   "cell_type": "code",
   "execution_count": 3,
   "metadata": {},
   "outputs": [],
   "source": [
    "def data_logger(day, miles):\n",
    "    # open trip csv file\n",
    "    with open('trip.csv', mode='a') as file:\n",
    "        f_writer = csv.writer(file, delimiter=',')\n",
    "        \n",
    "        f_writer.writerow([day, miles])\n",
    "        file.close()"
   ]
  },
  {
   "cell_type": "code",
   "execution_count": 4,
   "metadata": {},
   "outputs": [],
   "source": [
    "def get_data():\n",
    "    \n",
    "    #Create dataframe from csv using pandas\n",
    "    df = pd.read_csv(\"trip.csv\")\n",
    "    \n",
    "    return df"
   ]
  },
  {
   "cell_type": "code",
   "execution_count": 5,
   "metadata": {},
   "outputs": [],
   "source": [
    "def get_total_miles(df):\n",
    "   \n",
    "    series = pd.Series(df['Miles'])\n",
    "    \n",
    "    total_miles = series.sum()\n",
    "    \n",
    "    return total_miles"
   ]
  },
  {
   "cell_type": "code",
   "execution_count": 6,
   "metadata": {},
   "outputs": [
    {
     "name": "stdout",
     "output_type": "stream",
     "text": [
      "count     6.000000\n",
      "mean     39.666667\n",
      "std      10.875048\n",
      "min      23.000000\n",
      "25%      35.750000\n",
      "50%      41.000000\n",
      "75%      42.500000\n",
      "max      56.000000\n",
      "Name: Miles, dtype: float64\n"
     ]
    }
   ],
   "source": [
    "set_logger()\n",
    "data_logger(1,23)\n",
    "data_logger(2,56)\n",
    "data_logger(3,34)\n",
    "data_logger(4,41)\n",
    "data_logger(5,43)\n",
    "data_logger(5,41)\n",
    "\n",
    "df = get_data()\n",
    "\n",
    "series = pd.Series(df['Miles'].describe())\n",
    "\n",
    "print(series)"
   ]
  },
  {
   "cell_type": "code",
   "execution_count": 7,
   "metadata": {},
   "outputs": [
    {
     "name": "stdout",
     "output_type": "stream",
     "text": [
      "Total number of miles ridden: 238\n"
     ]
    }
   ],
   "source": [
    "df = get_data()\n",
    "#Get sum of all miles ridden\n",
    "total_miles = get_total_miles(df)\n",
    "\n",
    "print(\"Total number of miles ridden: {}\".format(total_miles))"
   ]
  },
  {
   "cell_type": "code",
   "execution_count": 8,
   "metadata": {},
   "outputs": [
    {
     "name": "stdout",
     "output_type": "stream",
     "text": [
      "   Day  Miles\n",
      "0    1     23\n",
      "1    2     56\n",
      "2    3     34\n",
      "3    4     41\n",
      "4    5     43\n",
      "5    5     41\n"
     ]
    }
   ],
   "source": [
    "print(df)"
   ]
  },
  {
   "cell_type": "code",
   "execution_count": 9,
   "metadata": {},
   "outputs": [
    {
     "data": {
      "image/png": "[encoded data removed]",
      "text/plain": [
       "<Figure size 432x288 with 1 Axes>"
      ]
     },
     "metadata": {
      "needs_background": "light"
     },
     "output_type": "display_data"
    }
   ],
   "source": [
    "series = pd.Series(df['Miles'])\n",
    "series.plot(kind=\"bar\", title=\"Miles Ridden\", legend=True)\n",
    "plt.xlabel(\"Days\")\n",
    "plt.ylabel(\"Miles\")\n",
    "plt.show()"
   ]
  },
  {
   "cell_type": "code",
   "execution_count": null,
   "metadata": {},
   "outputs": [],
   "source": []
  }
 ],
 "metadata": {
  "kernelspec": {
   "display_name": "Python 3",
   "language": "python",
   "name": "python3"
  },
  "language_info": {
   "codemirror_mode": {
    "name": "ipython",
    "version": 3
   },
   "file_extension": ".py",
   "mimetype": "text/x-python",
   "name": "python",
   "nbconvert_exporter": "python",
   "pygments_lexer": "ipython3",
   "version": "3.7.3"
  }
 },
 "nbformat": 4,
 "nbformat_minor": 2
}
